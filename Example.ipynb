{
 "cells": [
  {
   "cell_type": "markdown",
   "metadata": {},
   "source": [
    "# Testing IndexFinder on Open Data\n",
    "\n",
    "The data were used from research: **\"Serum Metabolomic Signatures Can Predict Subclinical Atherosclerosis in Patients With Systemic Lupus Erythematosus\"**\n",
    "\n",
    "*Coelewij L. et al. Serum metabolomic signatures can predict subclinical atherosclerosis in patients with systemic lupus erythematosus //Arteriosclerosis, thrombosis, and vascular biology. – 2021. – Т. 41. – №. 4. – С. 1446-1458.* https://www.ahajournals.org/doi/full/10.1161/ATVBAHA.120.315321\n",
    "\n",
    "We use subset of metabolites to predict atherosclerosis plug in SLE-patients. This metabolites isn't the most significant features. "
   ]
  },
  {
   "cell_type": "code",
   "execution_count": 1,
   "metadata": {},
   "outputs": [],
   "source": [
    "import numpy as np\n",
    "import pandas as pd\n",
    "import seaborn as sns\n",
    "from matplotlib import pyplot as plt\n",
    "#\n",
    "from sklearn.preprocessing import StandardScaler\n",
    "from sklearn.model_selection import train_test_split\n",
    "#\n",
    "from sklearn.model_selection import GridSearchCV\n",
    "from sklearn.linear_model import LogisticRegression\n",
    "#\n",
    "from sklearn.metrics import accuracy_score, precision_score, recall_score, f1_score\n",
    "def get_metrics(y_test, y_pred):\n",
    "    print(\"Accuracy: \", accuracy_score(y_test, y_pred))\n",
    "    print(\"Precision: \", precision_score(y_test, y_pred))\n",
    "    print(\"Recall: \", recall_score(y_test, y_pred))\n",
    "    print(\"F1: \", f1_score(y_test, y_pred))\n",
    "#\n",
    "from itertools import *\n",
    "#\n",
    "from sklearn.metrics import confusion_matrix\n",
    "from sklearn.metrics import roc_curve, auc\n",
    "from sklearn.metrics import roc_auc_score\n",
    "#\n",
    "SEED = 42\n",
    "\n",
    "#\n",
    "from indexfinder import IndexFinder, IndexFinderCV"
   ]
  },
  {
   "cell_type": "code",
   "execution_count": 2,
   "metadata": {},
   "outputs": [
    {
     "name": "stderr",
     "output_type": "stream",
     "text": [
      "c:\\users\\pfft\\miniconda3\\lib\\site-packages\\openpyxl\\styles\\stylesheet.py:226: UserWarning: Workbook contains no default style, apply openpyxl's default\n",
      "  warn(\"Workbook contains no default style, apply openpyxl's default\")\n"
     ]
    },
    {
     "data": {
      "text/html": [
       "<div>\n",
       "<style scoped>\n",
       "    .dataframe tbody tr th:only-of-type {\n",
       "        vertical-align: middle;\n",
       "    }\n",
       "\n",
       "    .dataframe tbody tr th {\n",
       "        vertical-align: top;\n",
       "    }\n",
       "\n",
       "    .dataframe thead th {\n",
       "        text-align: right;\n",
       "    }\n",
       "</style>\n",
       "<table border=\"1\" class=\"dataframe\">\n",
       "  <thead>\n",
       "    <tr style=\"text-align: right;\">\n",
       "      <th></th>\n",
       "      <th>Phenotype</th>\n",
       "      <th>AcAce</th>\n",
       "      <th>Ace</th>\n",
       "      <th>Ala</th>\n",
       "      <th>Alb</th>\n",
       "      <th>bOHBut</th>\n",
       "      <th>Cit</th>\n",
       "      <th>Crea</th>\n",
       "      <th>Glc</th>\n",
       "      <th>Gln</th>\n",
       "      <th>Glol</th>\n",
       "      <th>Gly</th>\n",
       "      <th>His</th>\n",
       "      <th>Ile</th>\n",
       "      <th>Lac</th>\n",
       "      <th>Leu</th>\n",
       "      <th>Phe</th>\n",
       "      <th>Tyr</th>\n",
       "      <th>Val</th>\n",
       "    </tr>\n",
       "  </thead>\n",
       "  <tbody>\n",
       "    <tr>\n",
       "      <th>39</th>\n",
       "      <td>0</td>\n",
       "      <td>0.0906</td>\n",
       "      <td>0.0546</td>\n",
       "      <td>0.444</td>\n",
       "      <td>0.0712</td>\n",
       "      <td>0.232</td>\n",
       "      <td>0.0689</td>\n",
       "      <td>0.0872</td>\n",
       "      <td>3.78</td>\n",
       "      <td>0.386</td>\n",
       "      <td>0.1700</td>\n",
       "      <td>0.289</td>\n",
       "      <td>0.0635</td>\n",
       "      <td>0.0637</td>\n",
       "      <td>1.81</td>\n",
       "      <td>0.0818</td>\n",
       "      <td>0.0851</td>\n",
       "      <td>0.0520</td>\n",
       "      <td>0.168</td>\n",
       "    </tr>\n",
       "    <tr>\n",
       "      <th>40</th>\n",
       "      <td>0</td>\n",
       "      <td>0.0323</td>\n",
       "      <td>0.1050</td>\n",
       "      <td>0.447</td>\n",
       "      <td>0.0877</td>\n",
       "      <td>0.101</td>\n",
       "      <td>0.0523</td>\n",
       "      <td>0.0623</td>\n",
       "      <td>3.55</td>\n",
       "      <td>0.147</td>\n",
       "      <td>0.1190</td>\n",
       "      <td>0.230</td>\n",
       "      <td>0.0497</td>\n",
       "      <td>0.0417</td>\n",
       "      <td>2.48</td>\n",
       "      <td>0.0683</td>\n",
       "      <td>0.0736</td>\n",
       "      <td>0.0402</td>\n",
       "      <td>0.117</td>\n",
       "    </tr>\n",
       "    <tr>\n",
       "      <th>41</th>\n",
       "      <td>0</td>\n",
       "      <td>0.0274</td>\n",
       "      <td>0.0497</td>\n",
       "      <td>0.469</td>\n",
       "      <td>0.0901</td>\n",
       "      <td>0.082</td>\n",
       "      <td>0.0913</td>\n",
       "      <td>0.0696</td>\n",
       "      <td>3.25</td>\n",
       "      <td>0.482</td>\n",
       "      <td>0.0842</td>\n",
       "      <td>0.339</td>\n",
       "      <td>0.0694</td>\n",
       "      <td>0.0423</td>\n",
       "      <td>1.56</td>\n",
       "      <td>0.0639</td>\n",
       "      <td>0.0690</td>\n",
       "      <td>0.0569</td>\n",
       "      <td>0.130</td>\n",
       "    </tr>\n",
       "    <tr>\n",
       "      <th>42</th>\n",
       "      <td>0</td>\n",
       "      <td>0.0280</td>\n",
       "      <td>0.0843</td>\n",
       "      <td>0.535</td>\n",
       "      <td>0.0904</td>\n",
       "      <td>0.115</td>\n",
       "      <td>0.1270</td>\n",
       "      <td>0.0669</td>\n",
       "      <td>3.22</td>\n",
       "      <td>0.410</td>\n",
       "      <td>0.1080</td>\n",
       "      <td>0.329</td>\n",
       "      <td>0.0644</td>\n",
       "      <td>0.0625</td>\n",
       "      <td>2.90</td>\n",
       "      <td>0.0965</td>\n",
       "      <td>0.1060</td>\n",
       "      <td>0.0491</td>\n",
       "      <td>0.171</td>\n",
       "    </tr>\n",
       "    <tr>\n",
       "      <th>43</th>\n",
       "      <td>0</td>\n",
       "      <td>0.0468</td>\n",
       "      <td>0.0847</td>\n",
       "      <td>0.429</td>\n",
       "      <td>0.0843</td>\n",
       "      <td>0.102</td>\n",
       "      <td>0.0511</td>\n",
       "      <td>0.0366</td>\n",
       "      <td>3.29</td>\n",
       "      <td>0.175</td>\n",
       "      <td>0.0788</td>\n",
       "      <td>0.302</td>\n",
       "      <td>0.0569</td>\n",
       "      <td>0.0472</td>\n",
       "      <td>1.85</td>\n",
       "      <td>0.0950</td>\n",
       "      <td>0.0767</td>\n",
       "      <td>0.0408</td>\n",
       "      <td>0.175</td>\n",
       "    </tr>\n",
       "  </tbody>\n",
       "</table>\n",
       "</div>"
      ],
      "text/plain": [
       "    Phenotype   AcAce     Ace    Ala     Alb  bOHBut     Cit    Crea   Glc  \\\n",
       "39          0  0.0906  0.0546  0.444  0.0712   0.232  0.0689  0.0872  3.78   \n",
       "40          0  0.0323  0.1050  0.447  0.0877   0.101  0.0523  0.0623  3.55   \n",
       "41          0  0.0274  0.0497  0.469  0.0901   0.082  0.0913  0.0696  3.25   \n",
       "42          0  0.0280  0.0843  0.535  0.0904   0.115  0.1270  0.0669  3.22   \n",
       "43          0  0.0468  0.0847  0.429  0.0843   0.102  0.0511  0.0366  3.29   \n",
       "\n",
       "      Gln    Glol    Gly     His     Ile   Lac     Leu     Phe     Tyr    Val  \n",
       "39  0.386  0.1700  0.289  0.0635  0.0637  1.81  0.0818  0.0851  0.0520  0.168  \n",
       "40  0.147  0.1190  0.230  0.0497  0.0417  2.48  0.0683  0.0736  0.0402  0.117  \n",
       "41  0.482  0.0842  0.339  0.0694  0.0423  1.56  0.0639  0.0690  0.0569  0.130  \n",
       "42  0.410  0.1080  0.329  0.0644  0.0625  2.90  0.0965  0.1060  0.0491  0.171  \n",
       "43  0.175  0.0788  0.302  0.0569  0.0472  1.85  0.0950  0.0767  0.0408  0.175  "
      ]
     },
     "execution_count": 2,
     "metadata": {},
     "output_type": "execute_result"
    }
   ],
   "source": [
    "data = pd.read_excel(\"SLE_transfor.xlsx\")\n",
    "data = data.drop([\"Unnamed: 0\", \"Sample_id\"], axis=1)\n",
    "data = data.query('Phenotype == \"SLE-P\" | Phenotype == \"SLE-NP\"') # use information from SLE patients\n",
    "data = data[['Phenotype','AcAce','Ace','Ala','Alb',\n",
    "  'bOHBut','Cit','Crea',\n",
    "  'Glc','Gln','Glol','Gly',\n",
    "  'His','Ile','Lac',\n",
    "  'Leu','Phe','Tyr','Val']] # metabolic subset\n",
    "data[\"Phenotype\"] = list(map(lambda x: 1 if x == 'SLE-P' else 0, data.Phenotype)) # transform Phenotype: 1 plug +\n",
    "                                                                                                       # 0 plug -\n",
    "data.head()"
   ]
  },
  {
   "cell_type": "markdown",
   "metadata": {},
   "source": [
    "### IndexFinder\n",
    "\n",
    "This is an alpha version of IndexFinder without cross validation"
   ]
  },
  {
   "cell_type": "code",
   "execution_count": 3,
   "metadata": {},
   "outputs": [
    {
     "name": "stdout",
     "output_type": "stream",
     "text": [
      "Positive feach: 14\n",
      "Negative feach: 4\n",
      "All feach: 262144\n",
      "Positive combinations:  469\n",
      "Negative combinations:  14\n",
      "All combinations done. There are 6566  combinations\n",
      "Primary index: AcAce/Alb\n",
      "Primary accuracy: 0.6\n",
      "Primary f1: 0.2\n",
      "\n",
      "Best index: AcAce+Ala+Glol/Gly\n",
      "Best accuracy: 0.85\n",
      "Best f1: 0.7272727272727273\n"
     ]
    },
    {
     "data": {
      "text/plain": [
       "'AcAce+Ala+Glol/Gly'"
      ]
     },
     "execution_count": 3,
     "metadata": {},
     "output_type": "execute_result"
    }
   ],
   "source": [
    "c = IndexFinder(data, \"Phenotype\", 42)\n",
    "c.get_explor()\n",
    "c.comb_generation(3)\n",
    "c.fit(5000)\n",
    "c.best_index"
   ]
  },
  {
   "cell_type": "markdown",
   "metadata": {},
   "source": [
    "### Model with IndexFinder"
   ]
  },
  {
   "cell_type": "code",
   "execution_count": 4,
   "metadata": {},
   "outputs": [
    {
     "name": "stdout",
     "output_type": "stream",
     "text": [
      "Accuracy:  0.85\n",
      "Precision:  1.0\n",
      "Recall:  0.5714285714285714\n",
      "F1:  0.7272727272727273\n"
     ]
    }
   ],
   "source": [
    "X = data.copy()\n",
    "y = data.Phenotype\n",
    "X[\"NEW_index\"] = (X[\"AcAce\"]+X[\"Ala\"]+X[\"Glol\"])/X[\"Gly\"]\n",
    "#\n",
    "#\n",
    "X_train, X_test, y_train, y_test = train_test_split(X[[\"NEW_index\"]], y, random_state=SEED, stratify=y, train_size=0.75)\n",
    "#\n",
    "model = LogisticRegression(random_state=42)\n",
    "model.fit(X_train, y_train)\n",
    "y_pred = model.predict(X_test)\n",
    "get_metrics(y_test, y_pred)"
   ]
  },
  {
   "cell_type": "code",
   "execution_count": 5,
   "metadata": {},
   "outputs": [
    {
     "data": {
      "image/png": "[encoded data removed]",
      "text/plain": [
       "<Figure size 360x360 with 2 Axes>"
      ]
     },
     "metadata": {
      "needs_background": "light"
     },
     "output_type": "display_data"
    }
   ],
   "source": [
    "cm = confusion_matrix(y_test, y_pred)\n",
    "plt.figure(figsize=(5,5))\n",
    "sns.heatmap(cm, annot=True, fmt=\".3f\", linewidths=.5, square = True, cmap = 'Blues_r');\n",
    "plt.ylabel('Actual label');\n",
    "plt.xlabel('Predicted label');\n",
    "score = model.score(X_test, y_test) # accuracy\n",
    "all_sample_title = 'Accuracy Score: {0}'.format(round(score, 2))\n",
    "plt.title(all_sample_title, size = 15);"
   ]
  },
  {
   "cell_type": "code",
   "execution_count": 6,
   "metadata": {},
   "outputs": [
    {
     "name": "stdout",
     "output_type": "stream",
     "text": [
      "Model: ROC AUC=0.780\n"
     ]
    },
    {
     "data": {
      "image/png": "[encoded data removed]",
      "text/plain": [
       "<Figure size 648x576 with 1 Axes>"
      ]
     },
     "metadata": {
      "needs_background": "light"
     },
     "output_type": "display_data"
    }
   ],
   "source": [
    "# get predictions\n",
    "lr_probs = model.predict_proba(X_test)\n",
    "# save probabilities only for a positive outcome\n",
    "lr_probs = lr_probs[:, 1]\n",
    "# calculate ROC AUC\n",
    "lr_auc = roc_auc_score(y_test, lr_probs)\n",
    "print('Model: ROC AUC=%.3f' % (lr_auc))\n",
    "# calculate roc curve\n",
    "fpr, tpr, treshold = roc_curve(y_test, lr_probs)\n",
    "roc_auc = auc(fpr, tpr)\n",
    "#\n",
    "plt.figure(figsize=(9,8))\n",
    "plt.plot(fpr, tpr, color='blue',\n",
    "         label='ROC curve (area = %0.2f)' % roc_auc)\n",
    "plt.plot([0, 1], [0, 1], color='red', linestyle='--')\n",
    "plt.xlim([0.0, 1.0])\n",
    "plt.ylim([0.0, 1.05])\n",
    "plt.xlabel('False Positive Rate')\n",
    "plt.ylabel('True Positive Rate')\n",
    "plt.title('ROC curve')\n",
    "plt.legend(loc=\"lower right\")\n",
    "plt.grid()"
   ]
  },
  {
   "cell_type": "markdown",
   "metadata": {},
   "source": [
    "Compare with other feature-selection methods"
   ]
  },
  {
   "cell_type": "code",
   "execution_count": 20,
   "metadata": {},
   "outputs": [],
   "source": [
    "from sklearn.feature_selection import (SelectKBest, SelectFdr, SelectFwe,\n",
    "                                       SelectPercentile, f_classif, chi2)"
   ]
  },
  {
   "cell_type": "code",
   "execution_count": 17,
   "metadata": {},
   "outputs": [
    {
     "name": "stdout",
     "output_type": "stream",
     "text": [
      "Accuracy:  0.65\n",
      "Precision:  0.0\n",
      "Recall:  0.0\n",
      "F1:  0.0\n"
     ]
    },
    {
     "name": "stderr",
     "output_type": "stream",
     "text": [
      "c:\\users\\pfft\\miniconda3\\lib\\site-packages\\sklearn\\metrics\\_classification.py:1308: UndefinedMetricWarning: Precision is ill-defined and being set to 0.0 due to no predicted samples. Use `zero_division` parameter to control this behavior.\n",
      "  _warn_prf(average, modifier, msg_start, len(result))\n"
     ]
    }
   ],
   "source": [
    "X = data.copy()\n",
    "X = X.drop(\"Phenotype\", axis=1)\n",
    "y = data.Phenotype\n",
    "#\n",
    "selector = SelectKBest(f_classif, k=10) # choose 10 feachures\n",
    "selector.fit(X, y)\n",
    "X_selected = selector.transform(X)\n",
    "#\n",
    "X_train, X_test, y_train, y_test = train_test_split(X_selected, y, random_state=SEED, stratify=y, train_size=0.75)\n",
    "model = LogisticRegression(random_state=42)\n",
    "model.fit(X_train, y_train)\n",
    "y_pred = model.predict(X_test)\n",
    "get_metrics(y_test, y_pred)"
   ]
  },
  {
   "cell_type": "code",
   "execution_count": 18,
   "metadata": {},
   "outputs": [
    {
     "name": "stdout",
     "output_type": "stream",
     "text": [
      "Model: ROC AUC=0.692\n"
     ]
    },
    {
     "data": {
      "image/png": "[encoded data removed]",
      "text/plain": [
       "<Figure size 648x576 with 1 Axes>"
      ]
     },
     "metadata": {
      "needs_background": "light"
     },
     "output_type": "display_data"
    }
   ],
   "source": [
    "# get predictions\n",
    "lr_probs = model.predict_proba(X_test)\n",
    "# save probabilities only for a positive outcome\n",
    "lr_probs = lr_probs[:, 1]\n",
    "# calculate ROC AUC\n",
    "lr_auc = roc_auc_score(y_test, lr_probs)\n",
    "print('Model: ROC AUC=%.3f' % (lr_auc))\n",
    "# calculate roc curve\n",
    "fpr, tpr, treshold = roc_curve(y_test, lr_probs)\n",
    "roc_auc = auc(fpr, tpr)\n",
    "#\n",
    "plt.figure(figsize=(9,8))\n",
    "plt.plot(fpr, tpr, color='blue',\n",
    "         label='ROC curve (area = %0.2f)' % roc_auc)\n",
    "plt.plot([0, 1], [0, 1], color='red', linestyle='--')\n",
    "plt.xlim([0.0, 1.0])\n",
    "plt.ylim([0.0, 1.05])\n",
    "plt.xlabel('False Positive Rate')\n",
    "plt.ylabel('True Positive Rate')\n",
    "plt.title('ROC curve')\n",
    "plt.legend(loc=\"lower right\")\n",
    "plt.grid()"
   ]
  },
  {
   "cell_type": "code",
   "execution_count": 23,
   "metadata": {},
   "outputs": [
    {
     "name": "stdout",
     "output_type": "stream",
     "text": [
      "(80, 0)\n"
     ]
    },
    {
     "name": "stderr",
     "output_type": "stream",
     "text": [
      "c:\\users\\pfft\\miniconda3\\lib\\site-packages\\sklearn\\feature_selection\\_base.py:92: UserWarning: No features were selected: either the data is too noisy or the selection test too strict.\n",
      "  warn(\n"
     ]
    }
   ],
   "source": [
    "X = data.copy()\n",
    "X = X.drop(\"Phenotype\", axis=1)\n",
    "y = data.Phenotype\n",
    "#\n",
    "X_selected = SelectFdr(alpha=0.05).fit_transform(X, y)\n",
    "print(X_selected.shape)\n",
    "#\n",
    "# X_train, X_test, y_train, y_test = train_test_split(X_selected, y, random_state=SEED, stratify=y, train_size=0.75)\n",
    "# model = LogisticRegression(random_state=42)\n",
    "# model.fit(X_train, y_train)\n",
    "# y_pred = model.predict(X_test)\n",
    "# get_metrics(y_test, y_pred)"
   ]
  },
  {
   "cell_type": "code",
   "execution_count": 26,
   "metadata": {},
   "outputs": [
    {
     "name": "stdout",
     "output_type": "stream",
     "text": [
      "(80, 0)\n"
     ]
    },
    {
     "name": "stderr",
     "output_type": "stream",
     "text": [
      "c:\\users\\pfft\\miniconda3\\lib\\site-packages\\sklearn\\feature_selection\\_base.py:92: UserWarning: No features were selected: either the data is too noisy or the selection test too strict.\n",
      "  warn(\n"
     ]
    }
   ],
   "source": [
    "X = data.copy()\n",
    "X = X.drop(\"Phenotype\", axis=1)\n",
    "y = data.Phenotype\n",
    "#\n",
    "X_selected = SelectFwe(alpha=0.01).fit_transform(X, y)\n",
    "print(X_selected.shape)\n",
    "#\n",
    "# X_train, X_test, y_train, y_test = train_test_split(X_selected, y, random_state=SEED, stratify=y, train_size=0.75)\n",
    "# model = LogisticRegression(random_state=42)\n",
    "# model.fit(X_train, y_train)\n",
    "# y_pred = model.predict(X_test)\n",
    "# get_metrics(y_test, y_pred)"
   ]
  },
  {
   "cell_type": "markdown",
   "metadata": {},
   "source": [
    "Check statistic"
   ]
  },
  {
   "cell_type": "code",
   "execution_count": 39,
   "metadata": {},
   "outputs": [
    {
     "data": {
      "text/plain": [
       "{'Gly': [[486.0, 0.008809107425691274]]}"
      ]
     },
     "execution_count": 39,
     "metadata": {},
     "output_type": "execute_result"
    }
   ],
   "source": [
    "from scipy.stats import mannwhitneyu\n",
    "data_stats = {}\n",
    "for i in range(1, data.shape[1]):\n",
    "    stat, p = mannwhitneyu(data.query('Phenotype == 1').iloc[:,i], \n",
    "                           data.query('Phenotype == 0').iloc[:,i])\n",
    "    data_stats[data.columns.values[i]] = [stat, p]\n",
    "#\n",
    "sign_values = {}\n",
    "for key in data_stats.keys():\n",
    "    if data_stats[key][-1] < 0.05:\n",
    "        sign_values[key] = [data_stats[key]]\n",
    "sign_values"
   ]
  },
  {
   "cell_type": "code",
   "execution_count": 43,
   "metadata": {},
   "outputs": [
    {
     "data": {
      "text/plain": [
       "False"
      ]
     },
     "execution_count": 43,
     "metadata": {},
     "output_type": "execute_result"
    }
   ],
   "source": [
    "# Bonpheroni correction\n",
    "sign_values['Gly'][0][1] < (0.05/19)"
   ]
  },
  {
   "cell_type": "markdown",
   "metadata": {},
   "source": [
    "**there are not significant features**"
   ]
  },
  {
   "cell_type": "code",
   "execution_count": 28,
   "metadata": {},
   "outputs": [
    {
     "name": "stdout",
     "output_type": "stream",
     "text": [
      "(80, 2)\n",
      "Accuracy:  0.65\n",
      "Precision:  0.0\n",
      "Recall:  0.0\n",
      "F1:  0.0\n"
     ]
    },
    {
     "name": "stderr",
     "output_type": "stream",
     "text": [
      "c:\\users\\pfft\\miniconda3\\lib\\site-packages\\sklearn\\metrics\\_classification.py:1308: UndefinedMetricWarning: Precision is ill-defined and being set to 0.0 due to no predicted samples. Use `zero_division` parameter to control this behavior.\n",
      "  _warn_prf(average, modifier, msg_start, len(result))\n"
     ]
    }
   ],
   "source": [
    "X = data.copy()\n",
    "X = X.drop(\"Phenotype\", axis=1)\n",
    "y = data.Phenotype\n",
    "#\n",
    "X_selected = SelectPercentile(percentile=10).fit_transform(X, y)\n",
    "print(X_selected.shape)\n",
    "\n",
    "X_train, X_test, y_train, y_test = train_test_split(X_selected, y, random_state=SEED, stratify=y, train_size=0.75)\n",
    "model = LogisticRegression(random_state=42)\n",
    "model.fit(X_train, y_train)\n",
    "y_pred = model.predict(X_test)\n",
    "get_metrics(y_test, y_pred)"
   ]
  },
  {
   "cell_type": "code",
   "execution_count": 29,
   "metadata": {},
   "outputs": [
    {
     "name": "stdout",
     "output_type": "stream",
     "text": [
      "Model: ROC AUC=0.593\n"
     ]
    },
    {
     "data": {
      "image/png": "[encoded data removed]",
      "text/plain": [
       "<Figure size 648x576 with 1 Axes>"
      ]
     },
     "metadata": {
      "needs_background": "light"
     },
     "output_type": "display_data"
    }
   ],
   "source": [
    "# get predictions\n",
    "lr_probs = model.predict_proba(X_test)\n",
    "# save probabilities only for a positive outcome\n",
    "lr_probs = lr_probs[:, 1]\n",
    "# calculate ROC AUC\n",
    "lr_auc = roc_auc_score(y_test, lr_probs)\n",
    "print('Model: ROC AUC=%.3f' % (lr_auc))\n",
    "# calculate roc curve\n",
    "fpr, tpr, treshold = roc_curve(y_test, lr_probs)\n",
    "roc_auc = auc(fpr, tpr)\n",
    "#\n",
    "plt.figure(figsize=(9,8))\n",
    "plt.plot(fpr, tpr, color='blue',\n",
    "         label='ROC curve (area = %0.2f)' % roc_auc)\n",
    "plt.plot([0, 1], [0, 1], color='red', linestyle='--')\n",
    "plt.xlim([0.0, 1.0])\n",
    "plt.ylim([0.0, 1.05])\n",
    "plt.xlabel('False Positive Rate')\n",
    "plt.ylabel('True Positive Rate')\n",
    "plt.title('ROC curve')\n",
    "plt.legend(loc=\"lower right\")\n",
    "plt.grid()"
   ]
  },
  {
   "cell_type": "markdown",
   "metadata": {},
   "source": [
    "## Preliminary results"
   ]
  },
  {
   "cell_type": "markdown",
   "metadata": {},
   "source": [
    "> IndexFinder get the best scores compare with other standard feature-selection methods\n",
    "> This features are not significant for target prediction, so IndexFinder has a tend to be overfitted \n",
    "> Additional modifications like cross-validation are needed"
   ]
  },
  {
   "cell_type": "markdown",
   "metadata": {},
   "source": [
    "## Cross-validation with IndexFinderCV"
   ]
  },
  {
   "cell_type": "code",
   "execution_count": 3,
   "metadata": {},
   "outputs": [
    {
     "name": "stdout",
     "output_type": "stream",
     "text": [
      "Positive feach: 14\n",
      "Negative feach: 4\n",
      "All feach: 262144\n",
      "Positive combinations:  469\n",
      "Negative combinations:  14\n",
      "All combinations done. There are 6566  combinations\n",
      "Primary index: AcAce\n",
      "Primary accuracy 0.6\n",
      "(∩｀-´)⊃━~☆ﾟ~.*~･｡ﾟ\n",
      "Best index: Leu+Val/Cit+His\n",
      "Cross_val best accuracy 0.7833333333333333\n"
     ]
    },
    {
     "data": {
      "text/plain": [
       "'Leu+Val/Cit+His'"
      ]
     },
     "execution_count": 3,
     "metadata": {},
     "output_type": "execute_result"
    }
   ],
   "source": [
    "d = IndexFinderCV(data, \"Phenotype\", 42)\n",
    "d.get_explor()\n",
    "d.comb_generation(3)\n",
    "d.fit(2000)\n",
    "d.best_index"
   ]
  },
  {
   "cell_type": "code",
   "execution_count": 4,
   "metadata": {},
   "outputs": [
    {
     "name": "stdout",
     "output_type": "stream",
     "text": [
      "Accuracy:  0.3\n",
      "Precision:  0.1111111111111111\n",
      "Recall:  0.14285714285714285\n",
      "F1:  0.125\n"
     ]
    }
   ],
   "source": [
    "X = data.copy()\n",
    "y = data.Phenotype\n",
    "X[\"NEW_index\"] = (X[\"Leu\"]+X[\"Val\"]/X[\"Cit\"])+X[\"His\"]\n",
    "#\n",
    "#\n",
    "X_train, X_test, y_train, y_test = train_test_split(X[[\"NEW_index\"]], y, random_state=SEED, stratify=y, train_size=0.75)\n",
    "#\n",
    "model = LogisticRegression(random_state=42)\n",
    "model.fit(X_train, y_train)\n",
    "y_pred = model.predict(X_test)\n",
    "get_metrics(y_test, y_pred)"
   ]
  },
  {
   "cell_type": "markdown",
   "metadata": {},
   "source": [
    "Very bad metrics, compare with naive model"
   ]
  },
  {
   "cell_type": "code",
   "execution_count": 6,
   "metadata": {},
   "outputs": [
    {
     "name": "stdout",
     "output_type": "stream",
     "text": [
      "Accuracy:  0.7\n",
      "Precision:  1.0\n",
      "Recall:  0.14285714285714285\n",
      "F1:  0.25\n"
     ]
    }
   ],
   "source": [
    "X = data.copy()\n",
    "X = X.drop('Phenotype', axis=1)\n",
    "y = data.Phenotype\n",
    "#\n",
    "X_train, X_test, y_train, y_test = train_test_split(X, y, random_state=SEED, stratify=y, train_size=0.75)\n",
    "#\n",
    "model = LogisticRegression(random_state=42)\n",
    "model.fit(X_train, y_train)\n",
    "y_pred = model.predict(X_test)\n",
    "get_metrics(y_test, y_pred)"
   ]
  },
  {
   "cell_type": "markdown",
   "metadata": {},
   "source": [
    "#### Naive model has best performance (more features)\n",
    "\n",
    "> It is necessary to increase the number of variables involved in building the index (as in the original method)"
   ]
  },
  {
   "cell_type": "code",
   "execution_count": null,
   "metadata": {},
   "outputs": [],
   "source": []
  },
  {
   "cell_type": "code",
   "execution_count": null,
   "metadata": {},
   "outputs": [],
   "source": []
  }
 ],
 "metadata": {
  "kernelspec": {
   "display_name": "Python 3",
   "language": "python",
   "name": "python3"
  },
  "language_info": {
   "codemirror_mode": {
    "name": "ipython",
    "version": 3
   },
   "file_extension": ".py",
   "mimetype": "text/x-python",
   "name": "python",
   "nbconvert_exporter": "python",
   "pygments_lexer": "ipython3",
   "version": "3.8.5"
  }
 },
 "nbformat": 4,
 "nbformat_minor": 4
}
